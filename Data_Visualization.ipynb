{
 "cells": [
  {
   "cell_type": "code",
   "execution_count": null,
   "metadata": {},
   "outputs": [],
   "source": [
    "from sins import dfs_filter02,dfs_filter01,set_interval_name\n",
    "from data_load import loaded_data\n",
    "import matplotlib.pyplot as plt\n",
    "import matplotlib.cm as cm\n",
    "import matplotlib.colors as cl"
   ]
  },
  {
   "cell_type": "code",
   "execution_count": null,
   "metadata": {},
   "outputs": [],
   "source": [
    "myData = loaded_data()\n",
    "dfs1 = dfs_filter02(myData)\n",
    "dfs2 = dfs_filter01(dfs1)\n",
    "dfs_final = set_interval_name(dfs2)"
   ]
  },
  {
   "cell_type": "code",
   "execution_count": null,
   "metadata": {},
   "outputs": [],
   "source": [
    "def cross_plot(sinsData,savefig=False):\n",
    "    df_merged = sinsData.df_merged\n",
    "    pphysics = sinsData.pphysics\n",
    "    intervals = sinsData.intervals\n",
    "    scope = \"9.All Wells\"\n",
    "    for pphysic in pphysics:\n",
    "        for interval in intervals:\n",
    "            df = df_merged[df_merged[\"Interval\"] == interval]\n",
    "            legend = pphysic\n",
    "            vmin = df[legend].min()\n",
    "            vmax = df[legend].max()\n",
    "            cmap = 'gist_rainbow'\n",
    "            if pphysic == \"PHIT\":\n",
    "                cmap = 'gist_rainbow_r'\n",
    "            title = f\"{scope} Vp/Vs vs. Ip - {legend} for {interval}\"\n",
    "            fig, ax = plt.subplots()\n",
    "            ax.scatter(df['Ip'],\n",
    "                       df['Vp/Vs'],\n",
    "                       c=df[legend],\n",
    "                       cmap=cmap,\n",
    "                       vmin=vmin,\n",
    "                       vmax=vmax)\n",
    "            ax.set_xlabel('Ip')\n",
    "            ax.set_ylabel('Vp/Vs')\n",
    "            ax.set_title(title, fontsize=30)\n",
    "            m = cm.ScalarMappable(cmap=cmap)\n",
    "            m.set_array(df[legend])\n",
    "            m.set_clim(vmin, vmax)\n",
    "            cbar = plt.colorbar(m)\n",
    "            cbar.ax.set_ylabel(legend)\n",
    "            #ax.legend()\n",
    "            ax.grid(True)\n",
    "            fig.set_size_inches(18, 12)\n",
    "            title = title.translate(\n",
    "                {ord(c): \"_\"\n",
    "                 for c in \"!@#$%^&*()[]{};:,./<>?\\|`~-=+ \"})\n",
    "            plt.show()\n",
    "            if savefig == True:\n",
    "                fig.savefig(f\"Output/{title}.png\",bbox_inches='tight')"
   ]
  },
  {
   "cell_type": "code",
   "execution_count": null,
   "metadata": {},
   "outputs": [],
   "source": [
    "def depth_trend(sinsData,bywell=False,savefig=False):\n",
    "    for name in sinsData.wellnames:\n",
    "        df = sinsData.dfs_well_dict[name]\n",
    "        if not bywell:\n",
    "            df = sinsData.df_merged\n",
    "            name = \"All wells\"\n",
    "\n",
    "        vmin = 0\n",
    "        vmax = 0.3\n",
    "        size = 4\n",
    "        legend = 'VCL'\n",
    "        depth = \"TVDss\"\n",
    "        cmap = cl.LinearSegmentedColormap.from_list(\"\", [\"red\", \"yellow\", \"green\"], 10)\n",
    "        title = f'9.{name} Elastic Properties All Depth'\n",
    "        fig = plt.figure()\n",
    "        fig.suptitle(title, fontsize=30)\n",
    "        fig.set_size_inches(30, 18)\n",
    "        elastics = sinsData.elastics\n",
    "        for idx,elastic in enumerate(elastics):  \n",
    "            x_axis = elastic\n",
    "\n",
    "            ax = fig.add_subplot(151 + idx)\n",
    "            ax.scatter(df[x_axis],\n",
    "                       df[depth],\n",
    "                       c=df[legend],\n",
    "                       cmap=cmap,\n",
    "                       vmin=vmin,\n",
    "                       vmax=vmax,\n",
    "                       s=size)\n",
    "            ax.set_xlabel(x_axis)\n",
    "            ax.set_ylabel('Depth mTVDss')\n",
    "            ax.invert_yaxis()\n",
    "            ax.set_title('Depth vs ' + x_axis, fontsize=12)\n",
    "            m = cm.ScalarMappable(cmap=cmap)\n",
    "            m.set_array(df[legend])\n",
    "            m.set_clim(vmin, vmax)\n",
    "            cbar = plt.colorbar(m, orientation='horizontal', ticks=[vmin, vmax], pad=0.05)\n",
    "            cbar.ax.set_xticklabels([vmin, vmax])\n",
    "            ax.grid(True)\n",
    "            cbar.ax.set_xlabel(legend)\n",
    "\n",
    "        savetitle = title.translate({ord(c): \"_\" for c in \"!@#$%^&*()[]{};:,./<>?\\|`~-=+ \"})\n",
    "        if savefig:\n",
    "            fig.savefig(f\"Output/{savetitle}.png\",bbox_inches='tight')\n",
    "            \n",
    "        if not bywell : break"
   ]
  },
  {
   "cell_type": "code",
   "execution_count": null,
   "metadata": {},
   "outputs": [],
   "source": [
    "cross_plot(myData,savefig=True)"
   ]
  },
  {
   "cell_type": "code",
   "execution_count": null,
   "metadata": {},
   "outputs": [],
   "source": [
    "depth_trend(myData,bywell=True,savefig=True)"
   ]
  },
  {
   "cell_type": "code",
   "execution_count": null,
   "metadata": {},
   "outputs": [],
   "source": [
    "depth_trend(myData,bywell=False,savefig=True)"
   ]
  },
  {
   "cell_type": "code",
   "execution_count": null,
   "metadata": {},
   "outputs": [],
   "source": []
  },
  {
   "cell_type": "code",
   "execution_count": null,
   "metadata": {},
   "outputs": [],
   "source": []
  },
  {
   "cell_type": "code",
   "execution_count": null,
   "metadata": {},
   "outputs": [],
   "source": []
  },
  {
   "cell_type": "code",
   "execution_count": null,
   "metadata": {},
   "outputs": [],
   "source": []
  }
 ],
 "metadata": {
  "kernelspec": {
   "display_name": "Python 3",
   "language": "python",
   "name": "python3"
  },
  "language_info": {
   "codemirror_mode": {
    "name": "ipython",
    "version": 3
   },
   "file_extension": ".py",
   "mimetype": "text/x-python",
   "name": "python",
   "nbconvert_exporter": "python",
   "pygments_lexer": "ipython3",
   "version": "3.7.3"
  }
 },
 "nbformat": 4,
 "nbformat_minor": 2
}
