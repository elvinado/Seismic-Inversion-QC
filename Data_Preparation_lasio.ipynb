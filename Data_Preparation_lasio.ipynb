{
 "cells": [
  {
   "cell_type": "code",
   "execution_count": null,
   "metadata": {},
   "outputs": [],
   "source": [
    "import lasio\n",
    "from sins import Data,Well,Interval\n",
    "import pandas as pd"
   ]
  },
  {
   "cell_type": "code",
   "execution_count": null,
   "metadata": {},
   "outputs": [],
   "source": [
    "files = (\"Input/BU1ST1_inhouse crossplot_rev1\",\n",
    "         \"Input/H4_inhouse crossplot\",\n",
    "         \"Input/HL6_inhouse crossplot\",\n",
    "         \"Input/HL8_inhouse crossplot\",\n",
    "         \"Input/L2_inhouse crossplot\")"
   ]
  },
  {
   "cell_type": "code",
   "execution_count": null,
   "metadata": {},
   "outputs": [],
   "source": [
    "myDS = Data(dataset_name='My lovely dataset')\n",
    "wells = {}\n",
    "for file in files:\n",
    "    las = lasio.read(file)\n",
    "    wellname = las.well.WELL.value\n",
    "    lasio_obj= las\n",
    "    thisWell = Well(wellname = wellname, lasio_obj=lasio_obj)\n",
    "    wells.update({wellname:thisWell})\n",
    "myDS.wells = wells"
   ]
  },
  {
   "cell_type": "code",
   "execution_count": null,
   "metadata": {},
   "outputs": [],
   "source": [
    "for well in myDS.wells.values():\n",
    "    print(well.lasio_obj.well.WELL.value,\"\\n\",tuple([m.mnemonic for m in well.lasio_obj.curves]))"
   ]
  },
  {
   "cell_type": "code",
   "execution_count": null,
   "metadata": {},
   "outputs": [],
   "source": [
    "    #BU1ST1 \n",
    "    old1 = ('DEPT', 'DEN', 'DTC', 'DTS', 'GR', 'JX_LITHOLOG', 'TVDSS', 'PHIT_FIN_2', 'SWT_FIN_2', 'VCL_FIN_2')\n",
    "    new1 = ('DEPTH', 'DEN', 'DTC', 'DTS', 'GR', 'JX_Litholog', 'TVDss', 'PHIT', 'SWT','VCL')\n",
    "    zip1 = zip(old1,new1)\n",
    "    #H4 \n",
    "    old2 = ('DEPT', 'GR', 'DEN_ORIGINAL', 'DTC', 'DTS', 'JX_LITHOLOG', 'TVDSS', 'PHIT_FIN_2', 'SWT_FIN_2', 'VCL_FIN_2')\n",
    "    new2 = ('DEPTH', 'GR', 'DEN', 'DTC', 'DTS', 'JX_Litholog', 'TVDss', 'PHIT', 'SWT','VCL')\n",
    "    zip2 = zip(old2,new2)\n",
    "    #HL6 \n",
    "    old3 = ('DEPT', 'GR', 'DEN_ORIGINAL', 'DTS_ORIGINAL', 'DTCO_ORIGINAL', 'JX_LITHOLOG', 'TVDSS', 'PHIT_FIN_2', 'SWT_FIN_2', 'VCL_FIN_2')\n",
    "    new3 = ('DEPTH', 'GR', 'DEN', 'DTS', 'DTC', 'JX_Litholog', 'TVDss', 'PHIT', 'SWT','VCL')\n",
    "    zip3 = zip(old3,new3)\n",
    "    #HL8 \n",
    "    old4 = ('DEPT', 'GR', 'DTC_ORIGINAL', 'DTS_ORIGINAL', 'DEN', 'JX_LITHOLOG', 'TVDSS', 'PHIT_FIN_2', 'SWT_FIN_2', 'VCL_FIN_2')\n",
    "    new4 = ('DEPTH', 'GR', 'DTC', 'DTS', 'DEN', 'JX_Litholog', 'TVDss', 'PHIT', 'SWT','VCL')\n",
    "    zip4 = zip(old4,new4)\n",
    "    #L2 \n",
    "    old5 = ('DEPT', 'GR', 'DEN_ORIGINAL', 'DTC_ORIGINAL', 'DTS_ORIGINAL', 'JX_LITHOLOG', 'TVDSS', 'PHIT_FIN_2', 'SWT_FIN_2', 'VCL_FIN_2')\n",
    "    new5 = ('DEPTH', 'GR', 'DEN', 'DTC', 'DTS', 'JX_Litholog', 'TVDss', 'PHIT', 'SWT','VCL')\n",
    "    zip5 = zip(old5,new5)"
   ]
  },
  {
   "cell_type": "code",
   "execution_count": null,
   "metadata": {},
   "outputs": [],
   "source": [
    "wellname1 = 'BU1ST1'\n",
    "print([m.mnemonic for m in myDS.wells[wellname1].lasio_obj.curves])\n",
    "myDS.wells[wellname1].update_mnemonics(zip1)\n",
    "print([m.mnemonic for m in myDS.wells[wellname1].lasio_obj.curves])"
   ]
  },
  {
   "cell_type": "code",
   "execution_count": null,
   "metadata": {},
   "outputs": [],
   "source": [
    "wellname2 = 'H4'\n",
    "print([m.mnemonic for m in myDS.wells[wellname2].lasio_obj.curves])\n",
    "myDS.wells[wellname2].update_mnemonics2(new2)\n",
    "print([m.mnemonic for m in myDS.wells[wellname2].lasio_obj.curves])"
   ]
  },
  {
   "cell_type": "code",
   "execution_count": null,
   "metadata": {},
   "outputs": [],
   "source": [
    "\n",
    "myDS.wellnames = tuple([name for name in myDS.wells.keys()])\n",
    "myDS.pphysics = (\"GR\", \"PHIT\", \"SWT\", \"VCL\")\n",
    "myDS.elastics = (\"DEN\",\"Vp\",\"Vs\",\"Ip\",\"Vp/Vs\")"
   ]
  },
  {
   "cell_type": "code",
   "execution_count": null,
   "metadata": {},
   "outputs": [],
   "source": [
    "# Method 1 to set intervals inclusion is by looping through tuples\n",
    "myDS.intervals_inclusion = ([\"All\"],[\"All\"],[\"All\"],[\"B-H\"],[\"All\"])\n",
    "for ii, well in zip(myDS.intervals_inclusion,myDS.wells.values()):\n",
    "    well.intervals_inclusion = ii"
   ]
  },
  {
   "cell_type": "code",
   "execution_count": null,
   "metadata": {},
   "outputs": [],
   "source": [
    "# Method 2 to set intervals inclusion is by setting directly\n",
    "# myDS.wells['H4'].intervals_inclusion = ['All']"
   ]
  },
  {
   "cell_type": "code",
   "execution_count": null,
   "metadata": {},
   "outputs": [],
   "source": [
    "for well in myDS.wells.values():\n",
    "    print(well.wellname)"
   ]
  },
  {
   "cell_type": "code",
   "execution_count": null,
   "metadata": {},
   "outputs": [],
   "source": [
    "myDS.df_depth = pd.read_csv(\"Input/Interval_list - All.txt\",delim_whitespace=True,header=0)"
   ]
  },
  {
   "cell_type": "code",
   "execution_count": null,
   "metadata": {},
   "outputs": [],
   "source": [
    "myDS.set_intervals()\n",
    "for well in myDS.wells.values():\n",
    "    for v in well.intervals.values():\n",
    "        print(well.wellname,v.name,v.top,v.bottom)"
   ]
  },
  {
   "cell_type": "code",
   "execution_count": null,
   "metadata": {},
   "outputs": [],
   "source": [
    "myDS.wells['BU1ST1'].intervals"
   ]
  },
  {
   "cell_type": "code",
   "execution_count": null,
   "metadata": {},
   "outputs": [],
   "source": [
    "myDS.wells['BU1ST1'].add_intervals('Alvin',top=5000,bottom=8888)"
   ]
  },
  {
   "cell_type": "code",
   "execution_count": null,
   "metadata": {},
   "outputs": [],
   "source": [
    "myDS.wells['BU1ST1'].intervals"
   ]
  },
  {
   "cell_type": "code",
   "execution_count": null,
   "metadata": {},
   "outputs": [],
   "source": [
    "myDS.__dict__"
   ]
  },
  {
   "cell_type": "code",
   "execution_count": null,
   "metadata": {},
   "outputs": [],
   "source": []
  },
  {
   "cell_type": "code",
   "execution_count": null,
   "metadata": {},
   "outputs": [],
   "source": []
  },
  {
   "cell_type": "code",
   "execution_count": null,
   "metadata": {},
   "outputs": [],
   "source": [
    "#from sins import dfs_filter02,dfs_filter01,set_interval_name\n",
    "#from data_load import loaded_data"
   ]
  },
  {
   "cell_type": "code",
   "execution_count": null,
   "metadata": {},
   "outputs": [],
   "source": [
    "#myData = loaded_data()\n",
    "#print(len(myData.df_merged))\n",
    "#print(len(myData.dfs_well_dict['HL8']))"
   ]
  },
  {
   "cell_type": "code",
   "execution_count": null,
   "metadata": {},
   "outputs": [],
   "source": [
    "#dfs1 = dfs_filter02(myData)\n",
    "#print(len(dfs1.dfs_well_dict['HL8']))"
   ]
  },
  {
   "cell_type": "code",
   "execution_count": null,
   "metadata": {},
   "outputs": [],
   "source": [
    "#dfs2 = dfs_filter01(dfs1)\n",
    "#print(len(dfs2.dfs_well_dict['HL8']))"
   ]
  },
  {
   "cell_type": "code",
   "execution_count": null,
   "metadata": {},
   "outputs": [],
   "source": [
    "#dfs_final = set_interval_name(dfs2)\n",
    "#print(len(dfs_final.dfs_well_dict['HL8']))"
   ]
  },
  {
   "cell_type": "code",
   "execution_count": null,
   "metadata": {},
   "outputs": [],
   "source": [
    "#df_merged = myData.df_merged\n",
    "#print(len(df_merged))"
   ]
  },
  {
   "cell_type": "code",
   "execution_count": null,
   "metadata": {},
   "outputs": [],
   "source": [
    "#len(dfs_final.df_merged)"
   ]
  },
  {
   "cell_type": "code",
   "execution_count": null,
   "metadata": {},
   "outputs": [],
   "source": [
    "kw = {'a':'a thing',\n",
    "     'b': 'b things',\n",
    "     'c':'C things'}"
   ]
  },
  {
   "cell_type": "code",
   "execution_count": null,
   "metadata": {},
   "outputs": [],
   "source": [
    "def testing (**kwargs):\n",
    "    print(a)\n",
    "    \n",
    "#testing(a = kw)"
   ]
  },
  {
   "cell_type": "code",
   "execution_count": null,
   "metadata": {},
   "outputs": [],
   "source": []
  },
  {
   "cell_type": "code",
   "execution_count": null,
   "metadata": {},
   "outputs": [],
   "source": []
  },
  {
   "cell_type": "code",
   "execution_count": null,
   "metadata": {},
   "outputs": [],
   "source": []
  },
  {
   "cell_type": "code",
   "execution_count": null,
   "metadata": {},
   "outputs": [],
   "source": []
  },
  {
   "cell_type": "code",
   "execution_count": null,
   "metadata": {},
   "outputs": [],
   "source": []
  }
 ],
 "metadata": {
  "kernelspec": {
   "display_name": "Python 3",
   "language": "python",
   "name": "python3"
  },
  "language_info": {
   "codemirror_mode": {
    "name": "ipython",
    "version": 3
   },
   "file_extension": ".py",
   "mimetype": "text/x-python",
   "name": "python",
   "nbconvert_exporter": "python",
   "pygments_lexer": "ipython3",
   "version": "3.7.3"
  }
 },
 "nbformat": 4,
 "nbformat_minor": 2
}
